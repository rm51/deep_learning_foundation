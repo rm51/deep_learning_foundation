{
 "cells": [
  {
   "cell_type": "markdown",
   "metadata": {
    "collapsed": true
   },
   "source": [
    "# Image Classification\n",
    "In this project, you'll classify images from the [CIFAR-10 dataset](https://www.cs.toronto.edu/~kriz/cifar.html).  The dataset consists of airplanes, dogs, cats, and other objects. You'll preprocess the images, then train a convolutional neural network on all the samples. The images need to be normalized and the labels need to be one-hot encoded.  You'll get to apply what you learned and build a convolutional, max pooling, dropout, and fully connected layers.  At the end, you'll get to see your neural network's predictions on the sample images.\n",
    "## Get the Data\n",
    "Run the following cell to download the [CIFAR-10 dataset for python](https://www.cs.toronto.edu/~kriz/cifar-10-python.tar.gz)."
   ]
  },
  {
   "cell_type": "code",
   "execution_count": 1,
   "metadata": {},
   "outputs": [
    {
     "name": "stdout",
     "output_type": "stream",
     "text": [
      "All files found!\n"
     ]
    }
   ],
   "source": [
    "\"\"\"\n",
    "DON'T MODIFY ANYTHING IN THIS CELL THAT IS BELOW THIS LINE\n",
    "\"\"\"\n",
    "from urllib.request import urlretrieve\n",
    "from os.path import isfile, isdir\n",
    "from tqdm import tqdm\n",
    "import problem_unittests as tests\n",
    "import tarfile\n",
    "\n",
    "cifar10_dataset_folder_path = 'cifar-10-batches-py'\n",
    "\n",
    "# Use Floyd's cifar-10 dataset if present\n",
    "floyd_cifar10_location = '/input/cifar-10/python.tar.gz'\n",
    "if isfile(floyd_cifar10_location):\n",
    "    tar_gz_path = floyd_cifar10_location\n",
    "else:\n",
    "    tar_gz_path = 'cifar-10-python.tar.gz'\n",
    "\n",
    "class DLProgress(tqdm):\n",
    "    last_block = 0\n",
    "\n",
    "    def hook(self, block_num=1, block_size=1, total_size=None):\n",
    "        self.total = total_size\n",
    "        self.update((block_num - self.last_block) * block_size)\n",
    "        self.last_block = block_num\n",
    "\n",
    "if not isfile(tar_gz_path):\n",
    "    with DLProgress(unit='B', unit_scale=True, miniters=1, desc='CIFAR-10 Dataset') as pbar:\n",
    "        urlretrieve(\n",
    "            'https://www.cs.toronto.edu/~kriz/cifar-10-python.tar.gz',\n",
    "            tar_gz_path,\n",
    "            pbar.hook)\n",
    "\n",
    "if not isdir(cifar10_dataset_folder_path):\n",
    "    with tarfile.open(tar_gz_path) as tar:\n",
    "        tar.extractall()\n",
    "        tar.close()\n",
    "\n",
    "\n",
    "tests.test_folder_path(cifar10_dataset_folder_path)"
   ]
  },
  {
   "cell_type": "markdown",
   "metadata": {},
   "source": [
    "## Explore the Data\n",
    "The dataset is broken into batches to prevent your machine from running out of memory.  The CIFAR-10 dataset consists of 5 batches, named `data_batch_1`, `data_batch_2`, etc.. Each batch contains the labels and images that are one of the following:\n",
    "* airplane\n",
    "* automobile\n",
    "* bird\n",
    "* cat\n",
    "* deer\n",
    "* dog\n",
    "* frog\n",
    "* horse\n",
    "* ship\n",
    "* truck\n",
    "\n",
    "Understanding a dataset is part of making predictions on the data.  Play around with the code cell below by changing the `batch_id` and `sample_id`. The `batch_id` is the id for a batch (1-5). The `sample_id` is the id for a image and label pair in the batch.\n",
    "\n",
    "Ask yourself \"What are all possible labels?\", \"What is the range of values for the image data?\", \"Are the labels in order or random?\".  Answers to questions like these will help you preprocess the data and end up with better predictions."
   ]
  },
  {
   "cell_type": "code",
   "execution_count": 2,
   "metadata": {},
   "outputs": [
    {
     "name": "stdout",
     "output_type": "stream",
     "text": [
      "\n",
      "Stats of batch 1:\n",
      "Samples: 10000\n",
      "Label Counts: {0: 1005, 1: 974, 2: 1032, 3: 1016, 4: 999, 5: 937, 6: 1030, 7: 1001, 8: 1025, 9: 981}\n",
      "First 20 Labels: [6, 9, 9, 4, 1, 1, 2, 7, 8, 3, 4, 7, 7, 2, 9, 9, 9, 3, 2, 6]\n",
      "\n",
      "Example of Image 5:\n",
      "Image - Min Value: 0 Max Value: 252\n",
      "Image - Shape: (32, 32, 3)\n",
      "Label - Label Id: 1 Name: automobile\n"
     ]
    },
    {
     "data": {
      "image/png": "[encoded data removed]",
      "text/plain": [
       "<matplotlib.figure.Figure at 0x1151611d0>"
      ]
     },
     "metadata": {
      "image/png": {
       "height": 250,
       "width": 253
      }
     },
     "output_type": "display_data"
    }
   ],
   "source": [
    "%matplotlib inline\n",
    "%config InlineBackend.figure_format = 'retina'\n",
    "\n",
    "import helper\n",
    "import numpy as np\n",
    "\n",
    "# Explore the dataset\n",
    "batch_id = 1\n",
    "sample_id = 5\n",
    "helper.display_stats(cifar10_dataset_folder_path, batch_id, sample_id)"
   ]
  },
  {
   "cell_type": "markdown",
   "metadata": {},
   "source": [
    "## Implement Preprocess Functions\n",
    "### Normalize\n",
    "In the cell below, implement the `normalize` function to take in image data, `x`, and return it as a normalized Numpy array. The values should be in the range of 0 to 1, inclusive.  The return object should be the same shape as `x`."
   ]
  },
  {
   "cell_type": "code",
   "execution_count": 3,
   "metadata": {},
   "outputs": [
    {
     "name": "stdout",
     "output_type": "stream",
     "text": [
      "Tests Passed\n"
     ]
    }
   ],
   "source": [
    "def normalize(x):\n",
    "    \"\"\"\n",
    "    Normalize a list of sample image data in the range of 0 to 1\n",
    "    : x: List of image data.  The image shape is (32, 32, 3)\n",
    "    : return: Numpy array of normalize data\n",
    "    \"\"\"\n",
    "    # TODO: Implement Function\n",
    "    \n",
    "    return 0 + ((x - 0)*(1-0))/ 255\n",
    "\n",
    "\n",
    "\"\"\"\n",
    "DON'T MODIFY ANYTHING IN THIS CELL THAT IS BELOW THIS LINE\n",
    "\"\"\"\n",
    "tests.test_normalize(normalize)"
   ]
  },
  {
   "cell_type": "markdown",
   "metadata": {},
   "source": [
    "### One-hot encode\n",
    "Just like the previous code cell, you'll be implementing a function for preprocessing.  This time, you'll implement the `one_hot_encode` function. The input, `x`, are a list of labels.  Implement the function to return the list of labels as One-Hot encoded Numpy array.  The possible values for labels are 0 to 9. The one-hot encoding function should return the same encoding for each value between each call to `one_hot_encode`.  Make sure to save the map of encodings outside the function.\n",
    "\n",
    "Hint: Don't reinvent the wheel."
   ]
  },
  {
   "cell_type": "code",
   "execution_count": 4,
   "metadata": {
    "scrolled": true
   },
   "outputs": [
    {
     "name": "stdout",
     "output_type": "stream",
     "text": [
      "Tests Passed\n"
     ]
    }
   ],
   "source": [
    "import tensorflow as tf\n",
    "from sklearn.preprocessing import LabelBinarizer\n",
    "import numpy as np\n",
    "def one_hot_encode(x):\n",
    "    \"\"\"\n",
    "    One hot encode a list of sample labels. Return a one-hot encoded vector for each label.\n",
    "    : x: List of sample Labels\n",
    "    : return: Numpy array of one-hot encoded labels\n",
    "    \"\"\"\n",
    "    \n",
    "    # I had a problem where my labels were all zeroes so I looked at the forums and saw this function was the problem. \n",
    "    # Then I checked my other notebook and had another issue as I wasn't using np.array in the lb.fit\n",
    "    # https://discussions.udacity.com/t/assertion-error-in-one-hot-encoding/226204/3\n",
    "    lb = LabelBinarizer(neg_label=0, pos_label=1, sparse_output=False)\n",
    "    lb.fit(np.array([[0, 0, 0,0,0,0,0,0,0,0],[0,0,0,0,0, 0,0, 0,0,0]]))\n",
    "    x = lb.transform(x)\n",
    "    #print (x.shape)\n",
    "    return x\n",
    "   \n",
    "    \n",
    "\n",
    "\n",
    "\"\"\"\n",
    "DON'T MODIFY ANYTHING IN THIS CELL THAT IS BELOW THIS LINE\n",
    "\"\"\"\n",
    "tests.test_one_hot_encode(one_hot_encode)"
   ]
  },
  {
   "cell_type": "markdown",
   "metadata": {},
   "source": [
    "### Randomize Data\n",
    "As you saw from exploring the data above, the order of the samples are randomized.  It doesn't hurt to randomize it again, but you don't need to for this dataset."
   ]
  },
  {
   "cell_type": "markdown",
   "metadata": {},
   "source": [
    "## Preprocess all the data and save it\n",
    "Running the code cell below will preprocess all the CIFAR-10 data and save it to file. The code below also uses 10% of the training data for validation."
   ]
  },
  {
   "cell_type": "code",
   "execution_count": 5,
   "metadata": {
    "collapsed": true
   },
   "outputs": [],
   "source": [
    "\"\"\"\n",
    "DON'T MODIFY ANYTHING IN THIS CELL\n",
    "\"\"\"\n",
    "# Preprocess Training, Validation, and Testing Data\n",
    "helper.preprocess_and_save_data(cifar10_dataset_folder_path, normalize, one_hot_encode)"
   ]
  },
  {
   "cell_type": "markdown",
   "metadata": {},
   "source": [
    "# Check Point\n",
    "This is your first checkpoint.  If you ever decide to come back to this notebook or have to restart the notebook, you can start from here.  The preprocessed data has been saved to disk."
   ]
  },
  {
   "cell_type": "code",
   "execution_count": 6,
   "metadata": {
    "collapsed": true
   },
   "outputs": [],
   "source": [
    "\"\"\"\n",
    "DON'T MODIFY ANYTHING IN THIS CELL\n",
    "\"\"\"\n",
    "import pickle\n",
    "import problem_unittests as tests\n",
    "import helper\n",
    "\n",
    "# Load the Preprocessed Validation data\n",
    "valid_features, valid_labels = pickle.load(open('preprocess_validation.p', mode='rb'))"
   ]
  },
  {
   "cell_type": "markdown",
   "metadata": {},
   "source": [
    "## Build the network\n",
    "For the neural network, you'll build each layer into a function.  Most of the code you've seen has been outside of functions. To test your code more thoroughly, we require that you put each layer in a function.  This allows us to give you better feedback and test for simple mistakes using our unittests before you submit your project.\n",
    "\n",
    ">**Note:** If you're finding it hard to dedicate enough time for this course each week, we've provided a small shortcut to this part of the project. In the next couple of problems, you'll have the option to use classes from the [TensorFlow Layers](https://www.tensorflow.org/api_docs/python/tf/layers) or [TensorFlow Layers (contrib)](https://www.tensorflow.org/api_guides/python/contrib.layers) packages to build each layer, except the layers you build in the \"Convolutional and Max Pooling Layer\" section.  TF Layers is similar to Keras's and TFLearn's abstraction to layers, so it's easy to pickup.\n",
    "\n",
    ">However, if you would like to get the most out of this course, try to solve all the problems _without_ using anything from the TF Layers packages. You **can** still use classes from other packages that happen to have the same name as ones you find in TF Layers! For example, instead of using the TF Layers version of the `conv2d` class, [tf.layers.conv2d](https://www.tensorflow.org/api_docs/python/tf/layers/conv2d), you would want to use the TF Neural Network version of `conv2d`, [tf.nn.conv2d](https://www.tensorflow.org/api_docs/python/tf/nn/conv2d). \n",
    "\n",
    "Let's begin!\n",
    "\n",
    "### Input\n",
    "The neural network needs to read the image data, one-hot encoded labels, and dropout keep probability. Implement the following functions\n",
    "* Implement `neural_net_image_input`\n",
    " * Return a [TF Placeholder](https://www.tensorflow.org/api_docs/python/tf/placeholder)\n",
    " * Set the shape using `image_shape` with batch size set to `None`.\n",
    " * Name the TensorFlow placeholder \"x\" using the TensorFlow `name` parameter in the [TF Placeholder](https://www.tensorflow.org/api_docs/python/tf/placeholder).\n",
    "* Implement `neural_net_label_input`\n",
    " * Return a [TF Placeholder](https://www.tensorflow.org/api_docs/python/tf/placeholder)\n",
    " * Set the shape using `n_classes` with batch size set to `None`.\n",
    " * Name the TensorFlow placeholder \"y\" using the TensorFlow `name` parameter in the [TF Placeholder](https://www.tensorflow.org/api_docs/python/tf/placeholder).\n",
    "* Implement `neural_net_keep_prob_input`\n",
    " * Return a [TF Placeholder](https://www.tensorflow.org/api_docs/python/tf/placeholder) for dropout keep probability.\n",
    " * Name the TensorFlow placeholder \"keep_prob\" using the TensorFlow `name` parameter in the [TF Placeholder](https://www.tensorflow.org/api_docs/python/tf/placeholder).\n",
    "\n",
    "These names will be used at the end of the project to load your saved model.\n",
    "\n",
    "Note: `None` for shapes in TensorFlow allow for a dynamic size."
   ]
  },
  {
   "cell_type": "code",
   "execution_count": 7,
   "metadata": {},
   "outputs": [
    {
     "name": "stdout",
     "output_type": "stream",
     "text": [
      "(32, 32, 3)\n",
      "Image Input Tests Passed.\n",
      "Label Input Tests Passed.\n",
      "Keep Prob Tests Passed.\n"
     ]
    }
   ],
   "source": [
    "import tensorflow as tf\n",
    "\n",
    "\n",
    "def neural_net_image_input(image_shape):\n",
    "    \"\"\"\n",
    "    Return a Tensor for a batch of image input\n",
    "    : image_shape: Shape of the images\n",
    "    : return: Tensor for image input.\n",
    "    \"\"\"\n",
    "    # TODO: Implement Function\n",
    "    print (image_shape)\n",
    "    image_shape = tf.placeholder(tf.float32, shape=[None,32,32,3],name=\"x\")\n",
    "    return image_shape\n",
    "\n",
    "\n",
    "def neural_net_label_input(n_classes):\n",
    "    \"\"\"\n",
    "    Return a Tensor for a batch of label input\n",
    "    : n_classes: Number of classes\n",
    "    : return: Tensor for label input.\n",
    "    \"\"\"\n",
    "    # TODO: Implement Function\n",
    "    n_classes = tf.placeholder(tf.float32, shape=[None,10], name=\"y\")\n",
    "   \n",
    "    return n_classes\n",
    "\n",
    "\n",
    "def neural_net_keep_prob_input():\n",
    "    \"\"\"\n",
    "    Return a Tensor for keep probability\n",
    "    : return: Tensor for keep probability.\n",
    "    \"\"\"\n",
    "    # TODO: Implement Function\n",
    "    keep_prob = tf.placeholder(tf.float32, name=\"keep_prob\")\n",
    "    return keep_prob\n",
    "\n",
    "\n",
    "\n",
    "\"\"\"\n",
    "DON'T MODIFY ANYTHING IN THIS CELL THAT IS BELOW THIS LINE\n",
    "\"\"\"\n",
    "tf.reset_default_graph()\n",
    "tests.test_nn_image_inputs(neural_net_image_input)\n",
    "tests.test_nn_label_inputs(neural_net_label_input)\n",
    "tests.test_nn_keep_prob_inputs(neural_net_keep_prob_input)"
   ]
  },
  {
   "cell_type": "markdown",
   "metadata": {},
   "source": [
    "### Convolution and Max Pooling Layer\n",
    "Convolution layers have a lot of success with images. For this code cell, you should implement the function `conv2d_maxpool` to apply convolution then max pooling:\n",
    "* Create the weight and bias using `conv_ksize`, `conv_num_outputs` and the shape of `x_tensor`.\n",
    "* Apply a convolution to `x_tensor` using weight and `conv_strides`.\n",
    " * We recommend you use same padding, but you're welcome to use any padding.\n",
    "* Add bias\n",
    "* Add a nonlinear activation to the convolution.\n",
    "* Apply Max Pooling using `pool_ksize` and `pool_strides`.\n",
    " * We recommend you use same padding, but you're welcome to use any padding.\n",
    "\n",
    "**Note:** You **can't** use [TensorFlow Layers](https://www.tensorflow.org/api_docs/python/tf/layers) or [TensorFlow Layers (contrib)](https://www.tensorflow.org/api_guides/python/contrib.layers) for **this** layer, but you can still use TensorFlow's [Neural Network](https://www.tensorflow.org/api_docs/python/tf/nn) package. You may still use the shortcut option for all the **other** layers."
   ]
  },
  {
   "cell_type": "code",
   "execution_count": 8,
   "metadata": {},
   "outputs": [
    {
     "name": "stdout",
     "output_type": "stream",
     "text": [
      "Tests Passed\n"
     ]
    }
   ],
   "source": [
    "def conv2d_maxpool(x_tensor, conv_num_outputs, conv_ksize, conv_strides, pool_ksize, pool_strides):\n",
    "    \"\"\"\n",
    "    Apply convolution then max pooling to x_tensor\n",
    "    :param x_tensor: TensorFlow Tensor\n",
    "    :param conv_num_outputs: Number of outputs for the convolutional layer\n",
    "    :param conv_ksize: kernal size 2-D Tuple for the convolutional layer\n",
    "    :param conv_strides: Stride 2-D Tuple for convolution\n",
    "    :param pool_ksize: kernal size 2-D Tuple for pool\n",
    "    :param pool_strides: Stride 2-D Tuple for pool\n",
    "    : return: A tensor that represents convolution and max pooling of x_tensor\n",
    "    \"\"\"\n",
    "    # TODO: Implement Function\n",
    "    \n",
    "    \n",
    "    p_ksize = [1,pool_ksize[0],pool_ksize[1],1]\n",
    "    p_strides = [1,pool_strides[0],pool_strides[1],1]\n",
    "   \n",
    "    # I looked at the forums to see about my error in color_channels because I was using x_tensor.shape[3] which \n",
    "    # gave the same answer when I printed it out but caused errors\n",
    "    color_channels = x_tensor.get_shape().as_list()[3]\n",
    "    \n",
    "    \n",
    "    # Weights & bias\n",
    "    \n",
    "    weight = tf.Variable(tf.truncated_normal([conv_ksize[0],conv_ksize[1], color_channels,conv_num_outputs], stddev=0.1))\n",
    "    bias = tf.Variable(tf.random_normal([conv_num_outputs]))\n",
    "   \n",
    "    layer = tf.nn.conv2d(x_tensor, weight, [1,conv_strides[0],conv_strides[1],1], padding='SAME')\n",
    "    layer = tf.nn.bias_add(layer, bias)\n",
    "    layer = tf.nn.relu(layer)\n",
    "    layer = tf.nn.max_pool(layer, p_ksize, p_strides, padding='SAME')\n",
    "    \n",
    "    return layer\n",
    "\n",
    "\n",
    "\"\"\"\n",
    "DON'T MODIFY ANYTHING IN THIS CELL THAT IS BELOW THIS LINE\n",
    "\"\"\"\n",
    "tests.test_con_pool(conv2d_maxpool)"
   ]
  },
  {
   "cell_type": "markdown",
   "metadata": {},
   "source": [
    "### Flatten Layer\n",
    "Implement the `flatten` function to change the dimension of `x_tensor` from a 4-D tensor to a 2-D tensor.  The output should be the shape (*Batch Size*, *Flattened Image Size*). Shortcut option: you can use classes from the [TensorFlow Layers](https://www.tensorflow.org/api_docs/python/tf/layers) or [TensorFlow Layers (contrib)](https://www.tensorflow.org/api_guides/python/contrib.layers) packages for this layer. For more of a challenge, only use other TensorFlow packages."
   ]
  },
  {
   "cell_type": "code",
   "execution_count": 9,
   "metadata": {},
   "outputs": [
    {
     "name": "stdout",
     "output_type": "stream",
     "text": [
      "Tests Passed\n"
     ]
    }
   ],
   "source": [
    "def flatten(x_tensor):\n",
    "    \"\"\"\n",
    "    Flatten x_tensor to (Batch Size, Flattened Image Size)\n",
    "    : x_tensor: A tensor of size (Batch Size, ...), where ... are the image dimensions.\n",
    "    : return: A tensor of size (Batch Size, Flattened Image Size).\n",
    "    \"\"\"\n",
    "    # TODO: Implement Function\n",
    "    x_tensor_shape = x_tensor.get_shape()\n",
    "    num_features = x_tensor_shape[1:4].num_elements()\n",
    "    layer_flat = tf.reshape(x_tensor,[-1,num_features])\n",
    "    return layer_flat\n",
    "\n",
    "\"\"\"\n",
    "DON'T MODIFY ANYTHING IN THIS CELL THAT IS BELOW THIS LINE\n",
    "\"\"\"\n",
    "tests.test_flatten(flatten)"
   ]
  },
  {
   "cell_type": "markdown",
   "metadata": {},
   "source": [
    "### Fully-Connected Layer\n",
    "Implement the `fully_conn` function to apply a fully connected layer to `x_tensor` with the shape (*Batch Size*, *num_outputs*). Shortcut option: you can use classes from the [TensorFlow Layers](https://www.tensorflow.org/api_docs/python/tf/layers) or [TensorFlow Layers (contrib)](https://www.tensorflow.org/api_guides/python/contrib.layers) packages for this layer. For more of a challenge, only use other TensorFlow packages."
   ]
  },
  {
   "cell_type": "code",
   "execution_count": 10,
   "metadata": {},
   "outputs": [
    {
     "name": "stdout",
     "output_type": "stream",
     "text": [
      "Tests Passed\n"
     ]
    }
   ],
   "source": [
    "def fully_conn(x_tensor, num_outputs):\n",
    "    \"\"\"\n",
    "    Apply a fully connected layer to x_tensor using weight and bias\n",
    "    : x_tensor: A 2-D tensor where the first dimension is batch size.\n",
    "    : num_outputs: The number of output that the new tensor should be.\n",
    "    : return: A 2-D tensor where the second dimension is num_outputs.\n",
    "    \"\"\"\n",
    "    # TODO: Implement Function\n",
    "    \n",
    "    x_tensor_shape = x_tensor.get_shape()\n",
    "    num_features = x_tensor_shape[1:4].num_elements()\n",
    "    weight = tf.Variable(tf.truncated_normal(shape=[num_features,num_outputs], stddev=0.1, mean=0, dtype=tf.float32))\n",
    "    #weight = tf.Variable(tf.truncated_normal(shape=[num_features,num_outputs]))\n",
    "    bias = tf.Variable(tf.zeros(num_outputs))\n",
    "    #bias = tf.Variable(tf.constant(0.,shape=[num_outputs],dtype=tf.float32))\n",
    "    #bias = tf.Variable(tf.constant(0.05, shape=[num_outputs]))\n",
    "    layer = tf.matmul(x_tensor, weight ) + bias\n",
    "    layer = tf.nn.relu(layer)\n",
    "    return layer\n",
    "\n",
    "\n",
    "\"\"\"\n",
    "DON'T MODIFY ANYTHING IN THIS CELL THAT IS BELOW THIS LINE\n",
    "\"\"\"\n",
    "tests.test_fully_conn(fully_conn)"
   ]
  },
  {
   "cell_type": "markdown",
   "metadata": {},
   "source": [
    "### Output Layer\n",
    "Implement the `output` function to apply a fully connected layer to `x_tensor` with the shape (*Batch Size*, *num_outputs*). Shortcut option: you can use classes from the [TensorFlow Layers](https://www.tensorflow.org/api_docs/python/tf/layers) or [TensorFlow Layers (contrib)](https://www.tensorflow.org/api_guides/python/contrib.layers) packages for this layer. For more of a challenge, only use other TensorFlow packages.\n",
    "\n",
    "**Note:** Activation, softmax, or cross entropy should **not** be applied to this."
   ]
  },
  {
   "cell_type": "code",
   "execution_count": 11,
   "metadata": {
    "scrolled": true
   },
   "outputs": [
    {
     "name": "stdout",
     "output_type": "stream",
     "text": [
      "Tests Passed\n"
     ]
    }
   ],
   "source": [
    "def output(x_tensor, num_outputs):\n",
    "    \"\"\"\n",
    "    Apply a output layer to x_tensor using weight and bias\n",
    "    : x_tensor: A 2-D tensor where the first dimension is batch size.\n",
    "    : num_outputs: The number of output that the new tensor should be.\n",
    "    : return: A 2-D tensor where the second dimension is num_outputs.\n",
    "    \"\"\"\n",
    "    # TODO: Implement Function\n",
    "    # y_pred = logits\n",
    "    \n",
    "    x_tensor_shape = x_tensor.get_shape()\n",
    "    num_features = x_tensor_shape[1:4].num_elements()\n",
    "    #weight = tf.Variable(tf.truncated_normal(shape=[num_features,num_outputs]))\n",
    "    weight = tf.Variable(tf.truncated_normal(shape=[num_features,num_outputs], stddev=0.1, mean=0, dtype=tf.float32))\n",
    "    bias = tf.Variable(tf.zeros(num_outputs))\n",
    "    #bias = tf.Variable(tf.constant(0.05, shape=[num_outputs]))\n",
    "    #bias = tf.Variable(tf.constant(0.,shape=[num_outputs], dtype=tf.float32))\n",
    "    layer = tf.matmul(x_tensor, weight ) + bias\n",
    "    #logits = tf.nn.softmax(layer)\n",
    "    return layer\n",
    "\n",
    "\n",
    "\"\"\"\n",
    "DON'T MODIFY ANYTHING IN THIS CELL THAT IS BELOW THIS LINE\n",
    "\"\"\"\n",
    "tests.test_output(output)"
   ]
  },
  {
   "cell_type": "markdown",
   "metadata": {},
   "source": [
    "### Create Convolutional Model\n",
    "Implement the function `conv_net` to create a convolutional neural network model. The function takes in a batch of images, `x`, and outputs logits.  Use the layers you created above to create this model:\n",
    "\n",
    "* Apply 1, 2, or 3 Convolution and Max Pool layers\n",
    "* Apply a Flatten Layer\n",
    "* Apply 1, 2, or 3 Fully Connected Layers\n",
    "* Apply an Output Layer\n",
    "* Return the output\n",
    "* Apply [TensorFlow's Dropout](https://www.tensorflow.org/api_docs/python/tf/nn/dropout) to one or more layers in the model using `keep_prob`. "
   ]
  },
  {
   "cell_type": "code",
   "execution_count": 79,
   "metadata": {},
   "outputs": [
    {
     "name": "stdout",
     "output_type": "stream",
     "text": [
      "(32, 32, 3)\n",
      "Neural Network Built!\n"
     ]
    }
   ],
   "source": [
    "def conv_net(x, keep_prob):\n",
    "    \"\"\"\n",
    "    Create a convolutional neural network model\n",
    "    : x: Placeholder tensor that holds image data.\n",
    "    : keep_prob: Placeholder tensor that hold dropout keep probability.\n",
    "    : return: Tensor that represents logits\n",
    "    \"\"\"\n",
    "    # TODO: Apply 1, 2, or 3 Convolution and Max Pool layers\n",
    "    #    Play around with different number of outputs, kernel size and stride\n",
    "    # Function Definition from Above:\n",
    "    \n",
    "    conv_num_outputs = 32\n",
    "    #conv_ksize=(1,2)\n",
    "    #conv_strides = (2,1)\n",
    "    #pool_ksize = (2,2)\n",
    "    #pool_strides = (2,1)\n",
    "    \n",
    "    #getting almost 46 with this\n",
    "    conv_ksize=(2,2)\n",
    "    conv_strides = (2,2)\n",
    "    pool_ksize = (2,2)\n",
    "    pool_strides = (2,2)\n",
    "    #conv_ksize=(4,4)\n",
    "    #conv_strides = (8,8)\n",
    "    \n",
    "    #pool_strides = (8,8)\n",
    "    x = conv2d_maxpool(x, conv_num_outputs, conv_ksize, conv_strides, pool_ksize, pool_strides)\n",
    "    #cnn = conv2d_maxpool(x, conv_num_outputs, conv_ksize, conv_strides, pool_ksize, pool_strides)\n",
    "\n",
    "    # TODO: Apply a Flatten Layer\n",
    "    # Function Definition from Above:\n",
    "    x_tensor =flatten(x)\n",
    "    \n",
    "    num_outputs = 10\n",
    "    num_hidden_units = 200\n",
    "       \n",
    "    # TODO: Apply 1, 2, or 3 Fully Connected Layers\n",
    "    #    Play around with different number of outputs\n",
    "    # Function Definition from Above:\n",
    "    \n",
    "    fc_layer = fully_conn(x_tensor, num_hidden_units)\n",
    "    dropout = tf.nn.dropout(fc_layer, keep_prob)\n",
    "    #fc_layer1 = fully_conn(dropout, num_hidden_units)\n",
    "    #dropout1 = tf.nn.dropout(fc_layer1, keep_prob)\n",
    "    #fc_layer2 = fully_conn(dropout1, num_hidden_units)\n",
    "    \n",
    "    \n",
    "    # TODO: Apply an Output Layer\n",
    "    #    Set this to the number of classes\n",
    "    # Function Definition from Above:\n",
    "   \n",
    "    #TODO: return output\n",
    "    #return output(fc_layer1, num_outputs)\n",
    "    return output(dropout, num_outputs)\n",
    "\n",
    "\n",
    "\"\"\"\n",
    "DON'T MODIFY ANYTHING IN THIS CELL THAT IS BELOW THIS LINE\n",
    "\"\"\"\n",
    "\n",
    "##############################\n",
    "## Build the Neural Network ##\n",
    "##############################\n",
    "\n",
    "# Remove previous weights, bias, inputs, etc..\n",
    "tf.reset_default_graph()\n",
    "\n",
    "# Inputs\n",
    "x = neural_net_image_input((32, 32, 3))\n",
    "y = neural_net_label_input(10)\n",
    "keep_prob = neural_net_keep_prob_input()\n",
    "\n",
    "# Model\n",
    "logits = conv_net(x, keep_prob)\n",
    "\n",
    "# Name logits Tensor, so that is can be loaded from disk after training\n",
    "logits = tf.identity(logits, name='logits')\n",
    "\n",
    "# Loss and Optimizer\n",
    "cost = tf.reduce_mean(tf.nn.softmax_cross_entropy_with_logits(logits=logits, labels=y))\n",
    "optimizer = tf.train.AdamOptimizer().minimize(cost)\n",
    "\n",
    "# Accuracy\n",
    "correct_pred = tf.equal(tf.argmax(logits, 1), tf.argmax(y, 1))\n",
    "accuracy = tf.reduce_mean(tf.cast(correct_pred, tf.float32), name='accuracy')\n",
    "\n",
    "tests.test_conv_net(conv_net)"
   ]
  },
  {
   "cell_type": "markdown",
   "metadata": {},
   "source": [
    "## Train the Neural Network\n",
    "### Single Optimization\n",
    "Implement the function `train_neural_network` to do a single optimization.  The optimization should use `optimizer` to optimize in `session` with a `feed_dict` of the following:\n",
    "* `x` for image input\n",
    "* `y` for labels\n",
    "* `keep_prob` for keep probability for dropout\n",
    "\n",
    "This function will be called for each batch, so `tf.global_variables_initializer()` has already been called.\n",
    "\n",
    "Note: Nothing needs to be returned. This function is only optimizing the neural network."
   ]
  },
  {
   "cell_type": "code",
   "execution_count": 80,
   "metadata": {},
   "outputs": [
    {
     "name": "stdout",
     "output_type": "stream",
     "text": [
      "Tests Passed\n"
     ]
    }
   ],
   "source": [
    "def train_neural_network(session, optimizer, keep_probability, feature_batch, label_batch):\n",
    "    \"\"\"\n",
    "    Optimize the session on a batch of images and labels\n",
    "    : session: Current TensorFlow session\n",
    "    : optimizer: TensorFlow optimizer function\n",
    "    : keep_probability: keep probability\n",
    "    : feature_batch: Batch of Numpy image data\n",
    "    : label_batch: Batch of Numpy label data\n",
    "    \"\"\"\n",
    "    # TODO: Implement Function\n",
    "    \n",
    "    feed_dict_train = {x: feature_batch, y: label_batch, keep_prob: keep_probability}\n",
    "    \n",
    "    session.run(optimizer, feed_dict=feed_dict_train)\n",
    "\n",
    "\n",
    "\"\"\"\n",
    "DON'T MODIFY ANYTHING IN THIS CELL THAT IS BELOW THIS LINE\n",
    "\"\"\"\n",
    "tests.test_train_nn(train_neural_network)"
   ]
  },
  {
   "cell_type": "markdown",
   "metadata": {},
   "source": [
    "### Show Stats\n",
    "Implement the function `print_stats` to print loss and validation accuracy.  Use the global variables `valid_features` and `valid_labels` to calculate validation accuracy.  Use a keep probability of `1.0` to calculate the loss and validation accuracy."
   ]
  },
  {
   "cell_type": "code",
   "execution_count": 81,
   "metadata": {
    "collapsed": true
   },
   "outputs": [],
   "source": [
    "def print_stats(session, feature_batch, label_batch, cost, accuracy):\n",
    "    \"\"\"\n",
    "    Print information about loss and validation accuracy\n",
    "    : session: Current TensorFlow session\n",
    "    : feature_batch: Batch of Numpy image data\n",
    "    : label_batch: Batch of Numpy label data\n",
    "    : cost: TensorFlow cost function\n",
    "    : accuracy: TensorFlow accuracy function\n",
    "    \"\"\"\n",
    "    # TODO: Implement Function\n",
    "   \n",
    "    validation_accuracy = session.run(accuracy,feed_dict={x:valid_features, y: valid_labels, keep_prob:1.})\n",
    "    loss = session.run(cost, feed_dict={x: feature_batch, y: label_batch, keep_prob:1.})\n",
    "    print (loss,validation_accuracy)\n",
    "    "
   ]
  },
  {
   "cell_type": "markdown",
   "metadata": {},
   "source": [
    "### Hyperparameters\n",
    "Tune the following parameters:\n",
    "* Set `epochs` to the number of iterations until the network stops learning or start overfitting\n",
    "* Set `batch_size` to the highest number that your machine has memory for.  Most people set them to common sizes of memory:\n",
    " * 64\n",
    " * 128\n",
    " * 256\n",
    " * ...\n",
    "* Set `keep_probability` to the probability of keeping a node using dropout"
   ]
  },
  {
   "cell_type": "code",
   "execution_count": 86,
   "metadata": {
    "collapsed": true
   },
   "outputs": [],
   "source": [
    "# TODO: Tune Parameters\n",
    "\n",
    "epochs = 60\n",
    "batch_size = 128\n",
    "keep_probability = .75\n",
    "\n",
    "\n"
   ]
  },
  {
   "cell_type": "markdown",
   "metadata": {},
   "source": [
    "### Train on a Single CIFAR-10 Batch\n",
    "Instead of training the neural network on all the CIFAR-10 batches of data, let's use a single batch. This should save time while you iterate on the model to get a better accuracy.  Once the final validation accuracy is 50% or greater, run the model on all the data in the next section."
   ]
  },
  {
   "cell_type": "code",
   "execution_count": 87,
   "metadata": {
    "scrolled": false
   },
   "outputs": [
    {
     "name": "stdout",
     "output_type": "stream",
     "text": [
      "Checking the Training on a Single Batch...\n",
      "Epoch  1, CIFAR-10 Batch 1:  2.22988 0.224\n",
      "Epoch  2, CIFAR-10 Batch 1:  2.12007 0.2876\n",
      "Epoch  3, CIFAR-10 Batch 1:  2.07815 0.2962\n",
      "Epoch  4, CIFAR-10 Batch 1:  2.0575 0.3194\n",
      "Epoch  5, CIFAR-10 Batch 1:  2.03847 0.3384\n",
      "Epoch  6, CIFAR-10 Batch 1:  1.99106 0.3484\n",
      "Epoch  7, CIFAR-10 Batch 1:  1.95309 0.3664\n",
      "Epoch  8, CIFAR-10 Batch 1:  1.92685 0.3792\n",
      "Epoch  9, CIFAR-10 Batch 1:  1.91764 0.3878\n",
      "Epoch 10, CIFAR-10 Batch 1:  1.90892 0.3976\n",
      "Epoch 11, CIFAR-10 Batch 1:  1.86338 0.4046\n",
      "Epoch 12, CIFAR-10 Batch 1:  1.84668 0.4044\n",
      "Epoch 13, CIFAR-10 Batch 1:  1.80858 0.4136\n",
      "Epoch 14, CIFAR-10 Batch 1:  1.80792 0.4154\n",
      "Epoch 15, CIFAR-10 Batch 1:  1.77949 0.42\n",
      "Epoch 16, CIFAR-10 Batch 1:  1.74363 0.4224\n",
      "Epoch 17, CIFAR-10 Batch 1:  1.70999 0.423\n",
      "Epoch 18, CIFAR-10 Batch 1:  1.71398 0.4294\n",
      "Epoch 19, CIFAR-10 Batch 1:  1.69065 0.4372\n",
      "Epoch 20, CIFAR-10 Batch 1:  1.64305 0.4266\n",
      "Epoch 21, CIFAR-10 Batch 1:  1.62308 0.4422\n",
      "Epoch 22, CIFAR-10 Batch 1:  1.61339 0.4428\n",
      "Epoch 23, CIFAR-10 Batch 1:  1.53525 0.4472\n",
      "Epoch 24, CIFAR-10 Batch 1:  1.53066 0.4492\n",
      "Epoch 25, CIFAR-10 Batch 1:  1.49357 0.4502\n",
      "Epoch 26, CIFAR-10 Batch 1:  1.4873 0.4492\n",
      "Epoch 27, CIFAR-10 Batch 1:  1.459 0.4618\n",
      "Epoch 28, CIFAR-10 Batch 1:  1.44042 0.4574\n",
      "Epoch 29, CIFAR-10 Batch 1:  1.40948 0.4582\n",
      "Epoch 30, CIFAR-10 Batch 1:  1.41509 0.4672\n",
      "Epoch 31, CIFAR-10 Batch 1:  1.36685 0.472\n",
      "Epoch 32, CIFAR-10 Batch 1:  1.39548 0.463\n",
      "Epoch 33, CIFAR-10 Batch 1:  1.34044 0.4734\n",
      "Epoch 34, CIFAR-10 Batch 1:  1.3239 0.474\n",
      "Epoch 35, CIFAR-10 Batch 1:  1.31823 0.4744\n",
      "Epoch 36, CIFAR-10 Batch 1:  1.3242 0.472\n",
      "Epoch 37, CIFAR-10 Batch 1:  1.25143 0.4722\n",
      "Epoch 38, CIFAR-10 Batch 1:  1.27877 0.4776\n",
      "Epoch 39, CIFAR-10 Batch 1:  1.24077 0.4788\n",
      "Epoch 40, CIFAR-10 Batch 1:  1.21292 0.4884\n",
      "Epoch 41, CIFAR-10 Batch 1:  1.23573 0.4872\n",
      "Epoch 42, CIFAR-10 Batch 1:  1.18152 0.4828\n",
      "Epoch 43, CIFAR-10 Batch 1:  1.19034 0.4888\n",
      "Epoch 44, CIFAR-10 Batch 1:  1.17715 0.4818\n",
      "Epoch 45, CIFAR-10 Batch 1:  1.16969 0.4856\n",
      "Epoch 46, CIFAR-10 Batch 1:  1.1392 0.4886\n",
      "Epoch 47, CIFAR-10 Batch 1:  1.11026 0.497\n",
      "Epoch 48, CIFAR-10 Batch 1:  1.14512 0.4908\n",
      "Epoch 49, CIFAR-10 Batch 1:  1.14644 0.482\n",
      "Epoch 50, CIFAR-10 Batch 1:  1.05733 0.498\n",
      "Epoch 51, CIFAR-10 Batch 1:  1.06704 0.5038\n",
      "Epoch 52, CIFAR-10 Batch 1:  1.02142 0.5042\n",
      "Epoch 53, CIFAR-10 Batch 1:  1.06177 0.5\n",
      "Epoch 54, CIFAR-10 Batch 1:  1.04453 0.502\n",
      "Epoch 55, CIFAR-10 Batch 1:  1.02112 0.5026\n",
      "Epoch 56, CIFAR-10 Batch 1:  0.969025 0.5052\n",
      "Epoch 57, CIFAR-10 Batch 1:  0.990918 0.5094\n",
      "Epoch 58, CIFAR-10 Batch 1:  0.978418 0.5124\n",
      "Epoch 59, CIFAR-10 Batch 1:  0.933206 0.507\n",
      "Epoch 60, CIFAR-10 Batch 1:  0.913115 0.5066\n"
     ]
    }
   ],
   "source": [
    "\"\"\"\n",
    "DON'T MODIFY ANYTHING IN THIS CELL\n",
    "\"\"\"\n",
    "\n",
    "print('Checking the Training on a Single Batch...')\n",
    "\n",
    "with tf.Session() as sess:\n",
    "    # Initializing the variables\n",
    "    sess.run(tf.global_variables_initializer())\n",
    "    \n",
    "    # Training cycle\n",
    "    for epoch in range(epochs):\n",
    "        batch_i = 1\n",
    "        for batch_features, batch_labels in helper.load_preprocess_training_batch(batch_i, batch_size):\n",
    "            train_neural_network(sess, optimizer, keep_probability, batch_features, batch_labels)\n",
    "        print('Epoch {:>2}, CIFAR-10 Batch {}:  '.format(epoch + 1, batch_i), end='')\n",
    "        print_stats(sess, batch_features, batch_labels, cost, accuracy)"
   ]
  },
  {
   "cell_type": "markdown",
   "metadata": {},
   "source": [
    "### Fully Train the Model\n",
    "Now that you got a good accuracy with a single CIFAR-10 batch, try it with all five batches."
   ]
  },
  {
   "cell_type": "code",
   "execution_count": 88,
   "metadata": {},
   "outputs": [
    {
     "name": "stdout",
     "output_type": "stream",
     "text": [
      "Training...\n",
      "Epoch  1, CIFAR-10 Batch 1:  2.24216 0.1682\n",
      "Epoch  1, CIFAR-10 Batch 2:  2.22778 0.231\n",
      "Epoch  1, CIFAR-10 Batch 3:  1.94314 0.236\n",
      "Epoch  1, CIFAR-10 Batch 4:  2.0084 0.2682\n",
      "Epoch  1, CIFAR-10 Batch 5:  2.03469 0.2976\n",
      "Epoch  2, CIFAR-10 Batch 1:  2.06478 0.3218\n",
      "Epoch  2, CIFAR-10 Batch 2:  1.97131 0.3406\n",
      "Epoch  2, CIFAR-10 Batch 3:  1.74063 0.3434\n",
      "Epoch  2, CIFAR-10 Batch 4:  1.80275 0.3514\n",
      "Epoch  2, CIFAR-10 Batch 5:  1.85384 0.3694\n",
      "Epoch  3, CIFAR-10 Batch 1:  1.99231 0.3594\n",
      "Epoch  3, CIFAR-10 Batch 2:  1.87127 0.3688\n",
      "Epoch  3, CIFAR-10 Batch 3:  1.64904 0.385\n",
      "Epoch  3, CIFAR-10 Batch 4:  1.6222 0.3934\n",
      "Epoch  3, CIFAR-10 Batch 5:  1.8036 0.387\n",
      "Epoch  4, CIFAR-10 Batch 1:  1.917 0.3968\n",
      "Epoch  4, CIFAR-10 Batch 2:  1.78959 0.3998\n",
      "Epoch  4, CIFAR-10 Batch 3:  1.541 0.4182\n",
      "Epoch  4, CIFAR-10 Batch 4:  1.60806 0.4076\n",
      "Epoch  4, CIFAR-10 Batch 5:  1.72452 0.4174\n",
      "Epoch  5, CIFAR-10 Batch 1:  1.84391 0.4188\n",
      "Epoch  5, CIFAR-10 Batch 2:  1.69686 0.4266\n",
      "Epoch  5, CIFAR-10 Batch 3:  1.43896 0.4326\n",
      "Epoch  5, CIFAR-10 Batch 4:  1.59291 0.4268\n",
      "Epoch  5, CIFAR-10 Batch 5:  1.67009 0.4348\n",
      "Epoch  6, CIFAR-10 Batch 1:  1.79623 0.4434\n",
      "Epoch  6, CIFAR-10 Batch 2:  1.57267 0.4386\n",
      "Epoch  6, CIFAR-10 Batch 3:  1.32882 0.4392\n",
      "Epoch  6, CIFAR-10 Batch 4:  1.55852 0.4458\n",
      "Epoch  6, CIFAR-10 Batch 5:  1.64543 0.4502\n",
      "Epoch  7, CIFAR-10 Batch 1:  1.78689 0.4522\n",
      "Epoch  7, CIFAR-10 Batch 2:  1.57364 0.4432\n",
      "Epoch  7, CIFAR-10 Batch 3:  1.29182 0.446\n",
      "Epoch  7, CIFAR-10 Batch 4:  1.49043 0.4572\n",
      "Epoch  7, CIFAR-10 Batch 5:  1.6531 0.4542\n",
      "Epoch  8, CIFAR-10 Batch 1:  1.72561 0.4622\n",
      "Epoch  8, CIFAR-10 Batch 2:  1.53872 0.4582\n",
      "Epoch  8, CIFAR-10 Batch 3:  1.20578 0.4518\n",
      "Epoch  8, CIFAR-10 Batch 4:  1.47452 0.4678\n",
      "Epoch  8, CIFAR-10 Batch 5:  1.57782 0.4678\n",
      "Epoch  9, CIFAR-10 Batch 1:  1.68692 0.466\n",
      "Epoch  9, CIFAR-10 Batch 2:  1.4965 0.4682\n",
      "Epoch  9, CIFAR-10 Batch 3:  1.18647 0.4684\n",
      "Epoch  9, CIFAR-10 Batch 4:  1.42441 0.4798\n",
      "Epoch  9, CIFAR-10 Batch 5:  1.55315 0.4736\n",
      "Epoch 10, CIFAR-10 Batch 1:  1.657 0.4822\n",
      "Epoch 10, CIFAR-10 Batch 2:  1.45794 0.4774\n",
      "Epoch 10, CIFAR-10 Batch 3:  1.13763 0.476\n",
      "Epoch 10, CIFAR-10 Batch 4:  1.45799 0.4804\n",
      "Epoch 10, CIFAR-10 Batch 5:  1.53759 0.4784\n",
      "Epoch 11, CIFAR-10 Batch 1:  1.65847 0.4914\n",
      "Epoch 11, CIFAR-10 Batch 2:  1.42809 0.475\n",
      "Epoch 11, CIFAR-10 Batch 3:  1.13956 0.4844\n",
      "Epoch 11, CIFAR-10 Batch 4:  1.42572 0.4878\n",
      "Epoch 11, CIFAR-10 Batch 5:  1.50911 0.4856\n",
      "Epoch 12, CIFAR-10 Batch 1:  1.60815 0.4944\n",
      "Epoch 12, CIFAR-10 Batch 2:  1.40158 0.4876\n",
      "Epoch 12, CIFAR-10 Batch 3:  1.12815 0.4922\n",
      "Epoch 12, CIFAR-10 Batch 4:  1.43017 0.4928\n",
      "Epoch 12, CIFAR-10 Batch 5:  1.44977 0.4948\n",
      "Epoch 13, CIFAR-10 Batch 1:  1.62895 0.5006\n",
      "Epoch 13, CIFAR-10 Batch 2:  1.36487 0.493\n",
      "Epoch 13, CIFAR-10 Batch 3:  1.11979 0.4958\n",
      "Epoch 13, CIFAR-10 Batch 4:  1.40638 0.4952\n",
      "Epoch 13, CIFAR-10 Batch 5:  1.43768 0.489\n",
      "Epoch 14, CIFAR-10 Batch 1:  1.59608 0.5034\n",
      "Epoch 14, CIFAR-10 Batch 2:  1.3343 0.5036\n",
      "Epoch 14, CIFAR-10 Batch 3:  1.07856 0.5026\n",
      "Epoch 14, CIFAR-10 Batch 4:  1.39387 0.5044\n",
      "Epoch 14, CIFAR-10 Batch 5:  1.42541 0.5034\n",
      "Epoch 15, CIFAR-10 Batch 1:  1.57967 0.5048\n",
      "Epoch 15, CIFAR-10 Batch 2:  1.33126 0.5046\n",
      "Epoch 15, CIFAR-10 Batch 3:  1.04562 0.5064\n",
      "Epoch 15, CIFAR-10 Batch 4:  1.34337 0.509\n",
      "Epoch 15, CIFAR-10 Batch 5:  1.41714 0.5146\n",
      "Epoch 16, CIFAR-10 Batch 1:  1.59923 0.515\n",
      "Epoch 16, CIFAR-10 Batch 2:  1.32265 0.5108\n",
      "Epoch 16, CIFAR-10 Batch 3:  1.06491 0.511\n",
      "Epoch 16, CIFAR-10 Batch 4:  1.35159 0.5148\n",
      "Epoch 16, CIFAR-10 Batch 5:  1.39717 0.5108\n",
      "Epoch 17, CIFAR-10 Batch 1:  1.57981 0.5198\n",
      "Epoch 17, CIFAR-10 Batch 2:  1.2908 0.5198\n",
      "Epoch 17, CIFAR-10 Batch 3:  1.04955 0.5162\n",
      "Epoch 17, CIFAR-10 Batch 4:  1.28916 0.5216\n",
      "Epoch 17, CIFAR-10 Batch 5:  1.35459 0.5172\n",
      "Epoch 18, CIFAR-10 Batch 1:  1.52955 0.5238\n",
      "Epoch 18, CIFAR-10 Batch 2:  1.28293 0.5186\n",
      "Epoch 18, CIFAR-10 Batch 3:  1.05842 0.5114\n",
      "Epoch 18, CIFAR-10 Batch 4:  1.27437 0.527\n",
      "Epoch 18, CIFAR-10 Batch 5:  1.36036 0.5172\n",
      "Epoch 19, CIFAR-10 Batch 1:  1.60629 0.5158\n",
      "Epoch 19, CIFAR-10 Batch 2:  1.23691 0.5166\n",
      "Epoch 19, CIFAR-10 Batch 3:  0.988132 0.5212\n",
      "Epoch 19, CIFAR-10 Batch 4:  1.23595 0.5292\n",
      "Epoch 19, CIFAR-10 Batch 5:  1.33939 0.5244\n",
      "Epoch 20, CIFAR-10 Batch 1:  1.556 0.5244\n",
      "Epoch 20, CIFAR-10 Batch 2:  1.2159 0.5266\n",
      "Epoch 20, CIFAR-10 Batch 3:  1.02596 0.5262\n",
      "Epoch 20, CIFAR-10 Batch 4:  1.24238 0.532\n",
      "Epoch 20, CIFAR-10 Batch 5:  1.27802 0.5332\n",
      "Epoch 21, CIFAR-10 Batch 1:  1.50358 0.5294\n",
      "Epoch 21, CIFAR-10 Batch 2:  1.20822 0.5274\n",
      "Epoch 21, CIFAR-10 Batch 3:  0.988745 0.5326\n",
      "Epoch 21, CIFAR-10 Batch 4:  1.22576 0.5382\n",
      "Epoch 21, CIFAR-10 Batch 5:  1.26149 0.5328\n",
      "Epoch 22, CIFAR-10 Batch 1:  1.49437 0.532\n",
      "Epoch 22, CIFAR-10 Batch 2:  1.16849 0.527\n",
      "Epoch 22, CIFAR-10 Batch 3:  0.999158 0.53\n",
      "Epoch 22, CIFAR-10 Batch 4:  1.19548 0.5376\n",
      "Epoch 22, CIFAR-10 Batch 5:  1.24317 0.5352\n",
      "Epoch 23, CIFAR-10 Batch 1:  1.47216 0.5406\n",
      "Epoch 23, CIFAR-10 Batch 2:  1.15787 0.538\n",
      "Epoch 23, CIFAR-10 Batch 3:  0.976057 0.5314\n",
      "Epoch 23, CIFAR-10 Batch 4:  1.19907 0.5418\n",
      "Epoch 23, CIFAR-10 Batch 5:  1.22912 0.5416\n",
      "Epoch 24, CIFAR-10 Batch 1:  1.43908 0.5438\n",
      "Epoch 24, CIFAR-10 Batch 2:  1.12272 0.532\n",
      "Epoch 24, CIFAR-10 Batch 3:  0.941462 0.5316\n",
      "Epoch 24, CIFAR-10 Batch 4:  1.18229 0.5438\n",
      "Epoch 24, CIFAR-10 Batch 5:  1.23241 0.5418\n",
      "Epoch 25, CIFAR-10 Batch 1:  1.41604 0.5464\n",
      "Epoch 25, CIFAR-10 Batch 2:  1.10231 0.533\n",
      "Epoch 25, CIFAR-10 Batch 3:  0.914737 0.5308\n",
      "Epoch 25, CIFAR-10 Batch 4:  1.14605 0.544\n",
      "Epoch 25, CIFAR-10 Batch 5:  1.20442 0.542\n",
      "Epoch 26, CIFAR-10 Batch 1:  1.39795 0.5492\n",
      "Epoch 26, CIFAR-10 Batch 2:  1.10495 0.5368\n",
      "Epoch 26, CIFAR-10 Batch 3:  0.944363 0.54\n",
      "Epoch 26, CIFAR-10 Batch 4:  1.14436 0.5482\n",
      "Epoch 26, CIFAR-10 Batch 5:  1.16095 0.5494\n",
      "Epoch 27, CIFAR-10 Batch 1:  1.36762 0.5474\n",
      "Epoch 27, CIFAR-10 Batch 2:  1.0853 0.5418\n",
      "Epoch 27, CIFAR-10 Batch 3:  0.911144 0.5492\n",
      "Epoch 27, CIFAR-10 Batch 4:  1.14071 0.5474\n",
      "Epoch 27, CIFAR-10 Batch 5:  1.13972 0.551\n",
      "Epoch 28, CIFAR-10 Batch 1:  1.3398 0.5498\n",
      "Epoch 28, CIFAR-10 Batch 2:  1.0625 0.5392\n",
      "Epoch 28, CIFAR-10 Batch 3:  0.876033 0.5462\n",
      "Epoch 28, CIFAR-10 Batch 4:  1.11195 0.5532\n",
      "Epoch 28, CIFAR-10 Batch 5:  1.10939 0.5572\n",
      "Epoch 29, CIFAR-10 Batch 1:  1.35 0.5538\n",
      "Epoch 29, CIFAR-10 Batch 2:  1.0459 0.546\n",
      "Epoch 29, CIFAR-10 Batch 3:  0.900528 0.5512\n",
      "Epoch 29, CIFAR-10 Batch 4:  1.09659 0.5554\n",
      "Epoch 29, CIFAR-10 Batch 5:  1.11785 0.5566\n",
      "Epoch 30, CIFAR-10 Batch 1:  1.29861 0.551\n",
      "Epoch 30, CIFAR-10 Batch 2:  1.0473 0.548\n",
      "Epoch 30, CIFAR-10 Batch 3:  0.856682 0.5486\n",
      "Epoch 30, CIFAR-10 Batch 4:  1.07015 0.553\n",
      "Epoch 30, CIFAR-10 Batch 5:  1.11435 0.553\n",
      "Epoch 31, CIFAR-10 Batch 1:  1.31778 0.5556\n",
      "Epoch 31, CIFAR-10 Batch 2:  1.03069 0.5566\n",
      "Epoch 31, CIFAR-10 Batch 3:  0.86281 0.5536\n",
      "Epoch 31, CIFAR-10 Batch 4:  1.08161 0.5594\n",
      "Epoch 31, CIFAR-10 Batch 5:  1.07434 0.554\n",
      "Epoch 32, CIFAR-10 Batch 1:  1.26426 0.5552\n",
      "Epoch 32, CIFAR-10 Batch 2:  1.02022 0.5466\n",
      "Epoch 32, CIFAR-10 Batch 3:  0.877838 0.5562\n",
      "Epoch 32, CIFAR-10 Batch 4:  1.0565 0.5608\n",
      "Epoch 32, CIFAR-10 Batch 5:  1.08761 0.5558\n",
      "Epoch 33, CIFAR-10 Batch 1:  1.235 0.5658\n",
      "Epoch 33, CIFAR-10 Batch 2:  0.997354 0.559\n",
      "Epoch 33, CIFAR-10 Batch 3:  0.841119 0.5594\n",
      "Epoch 33, CIFAR-10 Batch 4:  1.03808 0.5542\n",
      "Epoch 33, CIFAR-10 Batch 5:  1.05712 0.5566\n",
      "Epoch 34, CIFAR-10 Batch 1:  1.22877 0.5618\n",
      "Epoch 34, CIFAR-10 Batch 2:  0.984871 0.5522\n",
      "Epoch 34, CIFAR-10 Batch 3:  0.83525 0.561\n",
      "Epoch 34, CIFAR-10 Batch 4:  1.01004 0.5608\n",
      "Epoch 34, CIFAR-10 Batch 5:  1.05448 0.5586\n",
      "Epoch 35, CIFAR-10 Batch 1:  1.24846 0.5622\n",
      "Epoch 35, CIFAR-10 Batch 2:  0.984358 0.5596\n",
      "Epoch 35, CIFAR-10 Batch 3:  0.847638 0.5592\n",
      "Epoch 35, CIFAR-10 Batch 4:  1.05897 0.5552\n",
      "Epoch 35, CIFAR-10 Batch 5:  1.03815 0.5562\n",
      "Epoch 36, CIFAR-10 Batch 1:  1.17541 0.5662\n",
      "Epoch 36, CIFAR-10 Batch 2:  0.972074 0.561\n",
      "Epoch 36, CIFAR-10 Batch 3:  0.800922 0.564\n",
      "Epoch 36, CIFAR-10 Batch 4:  0.979818 0.5628\n",
      "Epoch 36, CIFAR-10 Batch 5:  1.00165 0.5634\n",
      "Epoch 37, CIFAR-10 Batch 1:  1.20509 0.5654\n",
      "Epoch 37, CIFAR-10 Batch 2:  0.972658 0.564\n",
      "Epoch 37, CIFAR-10 Batch 3:  0.790933 0.5648\n",
      "Epoch 37, CIFAR-10 Batch 4:  1.00148 0.5598\n",
      "Epoch 37, CIFAR-10 Batch 5:  1.01689 0.5622\n",
      "Epoch 38, CIFAR-10 Batch 1:  1.18877 0.5668\n",
      "Epoch 38, CIFAR-10 Batch 2:  0.97004 0.5656\n"
     ]
    },
    {
     "name": "stdout",
     "output_type": "stream",
     "text": [
      "Epoch 38, CIFAR-10 Batch 3:  0.802354 0.5654\n",
      "Epoch 38, CIFAR-10 Batch 4:  0.982445 0.5554\n",
      "Epoch 38, CIFAR-10 Batch 5:  1.01449 0.5646\n",
      "Epoch 39, CIFAR-10 Batch 1:  1.14912 0.568\n",
      "Epoch 39, CIFAR-10 Batch 2:  0.952312 0.5664\n",
      "Epoch 39, CIFAR-10 Batch 3:  0.797728 0.568\n",
      "Epoch 39, CIFAR-10 Batch 4:  0.991294 0.5658\n",
      "Epoch 39, CIFAR-10 Batch 5:  0.97548 0.5628\n",
      "Epoch 40, CIFAR-10 Batch 1:  1.15953 0.5658\n",
      "Epoch 40, CIFAR-10 Batch 2:  0.954888 0.5614\n",
      "Epoch 40, CIFAR-10 Batch 3:  0.767339 0.5672\n",
      "Epoch 40, CIFAR-10 Batch 4:  1.0131 0.5618\n",
      "Epoch 40, CIFAR-10 Batch 5:  0.964596 0.567\n",
      "Epoch 41, CIFAR-10 Batch 1:  1.13548 0.5668\n",
      "Epoch 41, CIFAR-10 Batch 2:  0.912506 0.558\n",
      "Epoch 41, CIFAR-10 Batch 3:  0.801321 0.5666\n",
      "Epoch 41, CIFAR-10 Batch 4:  0.974754 0.5676\n",
      "Epoch 41, CIFAR-10 Batch 5:  0.95677 0.5706\n",
      "Epoch 42, CIFAR-10 Batch 1:  1.12833 0.5742\n",
      "Epoch 42, CIFAR-10 Batch 2:  0.906337 0.5692\n",
      "Epoch 42, CIFAR-10 Batch 3:  0.774281 0.5706\n",
      "Epoch 42, CIFAR-10 Batch 4:  0.956944 0.5648\n",
      "Epoch 42, CIFAR-10 Batch 5:  0.944258 0.5702\n",
      "Epoch 43, CIFAR-10 Batch 1:  1.07509 0.5716\n",
      "Epoch 43, CIFAR-10 Batch 2:  0.901341 0.565\n",
      "Epoch 43, CIFAR-10 Batch 3:  0.769376 0.5678\n",
      "Epoch 43, CIFAR-10 Batch 4:  0.957201 0.569\n",
      "Epoch 43, CIFAR-10 Batch 5:  0.918877 0.5674\n",
      "Epoch 44, CIFAR-10 Batch 1:  1.07529 0.5752\n",
      "Epoch 44, CIFAR-10 Batch 2:  0.884643 0.563\n",
      "Epoch 44, CIFAR-10 Batch 3:  0.780408 0.5746\n",
      "Epoch 44, CIFAR-10 Batch 4:  0.961587 0.5728\n",
      "Epoch 44, CIFAR-10 Batch 5:  0.932051 0.5658\n",
      "Epoch 45, CIFAR-10 Batch 1:  1.10007 0.5726\n",
      "Epoch 45, CIFAR-10 Batch 2:  0.873422 0.5758\n",
      "Epoch 45, CIFAR-10 Batch 3:  0.771519 0.5732\n",
      "Epoch 45, CIFAR-10 Batch 4:  0.941772 0.5726\n",
      "Epoch 45, CIFAR-10 Batch 5:  0.902683 0.5642\n",
      "Epoch 46, CIFAR-10 Batch 1:  1.06311 0.579\n",
      "Epoch 46, CIFAR-10 Batch 2:  0.87897 0.5694\n",
      "Epoch 46, CIFAR-10 Batch 3:  0.768963 0.5732\n",
      "Epoch 46, CIFAR-10 Batch 4:  0.950755 0.571\n",
      "Epoch 46, CIFAR-10 Batch 5:  0.899715 0.5696\n",
      "Epoch 47, CIFAR-10 Batch 1:  1.08706 0.5764\n",
      "Epoch 47, CIFAR-10 Batch 2:  0.894709 0.5712\n",
      "Epoch 47, CIFAR-10 Batch 3:  0.758439 0.5752\n",
      "Epoch 47, CIFAR-10 Batch 4:  0.919752 0.5738\n",
      "Epoch 47, CIFAR-10 Batch 5:  0.880531 0.572\n",
      "Epoch 48, CIFAR-10 Batch 1:  1.0238 0.5728\n",
      "Epoch 48, CIFAR-10 Batch 2:  0.884358 0.5756\n",
      "Epoch 48, CIFAR-10 Batch 3:  0.747435 0.574\n",
      "Epoch 48, CIFAR-10 Batch 4:  0.908055 0.5728\n",
      "Epoch 48, CIFAR-10 Batch 5:  0.895105 0.5696\n",
      "Epoch 49, CIFAR-10 Batch 1:  1.03261 0.5764\n",
      "Epoch 49, CIFAR-10 Batch 2:  0.871353 0.5704\n",
      "Epoch 49, CIFAR-10 Batch 3:  0.750129 0.5732\n",
      "Epoch 49, CIFAR-10 Batch 4:  0.906423 0.5682\n",
      "Epoch 49, CIFAR-10 Batch 5:  0.874911 0.57\n",
      "Epoch 50, CIFAR-10 Batch 1:  1.03351 0.5728\n",
      "Epoch 50, CIFAR-10 Batch 2:  0.869335 0.5772\n",
      "Epoch 50, CIFAR-10 Batch 3:  0.742813 0.5778\n",
      "Epoch 50, CIFAR-10 Batch 4:  0.882854 0.5756\n",
      "Epoch 50, CIFAR-10 Batch 5:  0.840865 0.5706\n",
      "Epoch 51, CIFAR-10 Batch 1:  1.01509 0.5734\n",
      "Epoch 51, CIFAR-10 Batch 2:  0.894232 0.5708\n",
      "Epoch 51, CIFAR-10 Batch 3:  0.724885 0.566\n",
      "Epoch 51, CIFAR-10 Batch 4:  0.893221 0.5746\n",
      "Epoch 51, CIFAR-10 Batch 5:  0.826019 0.573\n",
      "Epoch 52, CIFAR-10 Batch 1:  1.033 0.5722\n",
      "Epoch 52, CIFAR-10 Batch 2:  0.824382 0.5734\n",
      "Epoch 52, CIFAR-10 Batch 3:  0.735915 0.5674\n",
      "Epoch 52, CIFAR-10 Batch 4:  0.906595 0.5708\n",
      "Epoch 52, CIFAR-10 Batch 5:  0.824467 0.5708\n",
      "Epoch 53, CIFAR-10 Batch 1:  1.00871 0.5734\n",
      "Epoch 53, CIFAR-10 Batch 2:  0.816316 0.573\n",
      "Epoch 53, CIFAR-10 Batch 3:  0.722074 0.5756\n",
      "Epoch 53, CIFAR-10 Batch 4:  0.884532 0.5724\n",
      "Epoch 53, CIFAR-10 Batch 5:  0.822691 0.5746\n",
      "Epoch 54, CIFAR-10 Batch 1:  0.97308 0.578\n",
      "Epoch 54, CIFAR-10 Batch 2:  0.841572 0.5694\n",
      "Epoch 54, CIFAR-10 Batch 3:  0.723082 0.563\n",
      "Epoch 54, CIFAR-10 Batch 4:  0.884076 0.5708\n",
      "Epoch 54, CIFAR-10 Batch 5:  0.823074 0.5702\n",
      "Epoch 55, CIFAR-10 Batch 1:  0.986909 0.5782\n",
      "Epoch 55, CIFAR-10 Batch 2:  0.813156 0.5728\n",
      "Epoch 55, CIFAR-10 Batch 3:  0.704904 0.5682\n",
      "Epoch 55, CIFAR-10 Batch 4:  0.844154 0.5724\n",
      "Epoch 55, CIFAR-10 Batch 5:  0.79002 0.5778\n",
      "Epoch 56, CIFAR-10 Batch 1:  1.01129 0.5734\n",
      "Epoch 56, CIFAR-10 Batch 2:  0.7752 0.5708\n",
      "Epoch 56, CIFAR-10 Batch 3:  0.705687 0.5726\n",
      "Epoch 56, CIFAR-10 Batch 4:  0.829923 0.5766\n",
      "Epoch 56, CIFAR-10 Batch 5:  0.800798 0.5752\n",
      "Epoch 57, CIFAR-10 Batch 1:  0.960299 0.5774\n",
      "Epoch 57, CIFAR-10 Batch 2:  0.783055 0.5736\n",
      "Epoch 57, CIFAR-10 Batch 3:  0.676673 0.5758\n",
      "Epoch 57, CIFAR-10 Batch 4:  0.837939 0.5778\n",
      "Epoch 57, CIFAR-10 Batch 5:  0.814844 0.5802\n",
      "Epoch 58, CIFAR-10 Batch 1:  0.986731 0.5794\n",
      "Epoch 58, CIFAR-10 Batch 2:  0.790049 0.576\n",
      "Epoch 58, CIFAR-10 Batch 3:  0.719049 0.5792\n",
      "Epoch 58, CIFAR-10 Batch 4:  0.831633 0.5818\n",
      "Epoch 58, CIFAR-10 Batch 5:  0.782313 0.5786\n",
      "Epoch 59, CIFAR-10 Batch 1:  0.96328 0.579\n",
      "Epoch 59, CIFAR-10 Batch 2:  0.781326 0.574\n",
      "Epoch 59, CIFAR-10 Batch 3:  0.673815 0.5778\n",
      "Epoch 59, CIFAR-10 Batch 4:  0.817728 0.5722\n",
      "Epoch 59, CIFAR-10 Batch 5:  0.801012 0.5708\n",
      "Epoch 60, CIFAR-10 Batch 1:  0.972993 0.5718\n",
      "Epoch 60, CIFAR-10 Batch 2:  0.734156 0.5752\n",
      "Epoch 60, CIFAR-10 Batch 3:  0.715503 0.5778\n",
      "Epoch 60, CIFAR-10 Batch 4:  0.801863 0.5742\n",
      "Epoch 60, CIFAR-10 Batch 5:  0.761444 0.5716\n"
     ]
    }
   ],
   "source": [
    "\"\"\"\n",
    "DON'T MODIFY ANYTHING IN THIS CELL\n",
    "\"\"\"\n",
    "save_model_path = './image_classification'\n",
    "\n",
    "print('Training...')\n",
    "with tf.Session() as sess:\n",
    "    # Initializing the variables\n",
    "    sess.run(tf.global_variables_initializer())\n",
    "    \n",
    "    # Training cycle\n",
    "    for epoch in range(epochs):\n",
    "        # Loop over all batches\n",
    "        n_batches = 5\n",
    "        for batch_i in range(1, n_batches + 1):\n",
    "            for batch_features, batch_labels in helper.load_preprocess_training_batch(batch_i, batch_size):\n",
    "                train_neural_network(sess, optimizer, keep_probability, batch_features, batch_labels)\n",
    "            print('Epoch {:>2}, CIFAR-10 Batch {}:  '.format(epoch + 1, batch_i), end='')\n",
    "            print_stats(sess, batch_features, batch_labels, cost, accuracy)\n",
    "            \n",
    "    # Save Model\n",
    "    saver = tf.train.Saver()\n",
    "    save_path = saver.save(sess, save_model_path)"
   ]
  },
  {
   "cell_type": "markdown",
   "metadata": {},
   "source": [
    "# Checkpoint\n",
    "The model has been saved to disk.\n",
    "## Test Model\n",
    "Test your model against the test dataset.  This will be your final accuracy. You should have an accuracy greater than 50%. If you don't, keep tweaking the model architecture and parameters."
   ]
  },
  {
   "cell_type": "code",
   "execution_count": 89,
   "metadata": {
    "scrolled": true
   },
   "outputs": [
    {
     "name": "stdout",
     "output_type": "stream",
     "text": [
      "Testing Accuracy: 0.5747626582278481\n",
      "\n"
     ]
    },
    {
     "data": {
      "image/png": "[encoded data removed]",
      "text/plain": [
       "<matplotlib.figure.Figure at 0x117325630>"
      ]
     },
     "metadata": {
      "image/png": {
       "height": 319,
       "width": 355
      }
     },
     "output_type": "display_data"
    }
   ],
   "source": [
    "\"\"\"\n",
    "DON'T MODIFY ANYTHING IN THIS CELL\n",
    "\"\"\"\n",
    "%matplotlib inline\n",
    "%config InlineBackend.figure_format = 'retina'\n",
    "\n",
    "import tensorflow as tf\n",
    "import pickle\n",
    "import helper\n",
    "import random\n",
    "\n",
    "# Set batch size if not already set\n",
    "try:\n",
    "    if batch_size:\n",
    "        pass\n",
    "except NameError:\n",
    "    batch_size = 64\n",
    "\n",
    "save_model_path = './image_classification'\n",
    "n_samples = 4\n",
    "top_n_predictions = 3\n",
    "\n",
    "def test_model():\n",
    "    \"\"\"\n",
    "    Test the saved model against the test dataset\n",
    "    \"\"\"\n",
    "\n",
    "    test_features, test_labels = pickle.load(open('preprocess_training.p', mode='rb'))\n",
    "    loaded_graph = tf.Graph()\n",
    "\n",
    "    with tf.Session(graph=loaded_graph) as sess:\n",
    "        # Load model\n",
    "        loader = tf.train.import_meta_graph(save_model_path + '.meta')\n",
    "        loader.restore(sess, save_model_path)\n",
    "\n",
    "        # Get Tensors from loaded model\n",
    "        loaded_x = loaded_graph.get_tensor_by_name('x:0')\n",
    "        loaded_y = loaded_graph.get_tensor_by_name('y:0')\n",
    "        loaded_keep_prob = loaded_graph.get_tensor_by_name('keep_prob:0')\n",
    "        loaded_logits = loaded_graph.get_tensor_by_name('logits:0')\n",
    "        loaded_acc = loaded_graph.get_tensor_by_name('accuracy:0')\n",
    "        \n",
    "        # Get accuracy in batches for memory limitations\n",
    "        test_batch_acc_total = 0\n",
    "        test_batch_count = 0\n",
    "        \n",
    "        for train_feature_batch, train_label_batch in helper.batch_features_labels(test_features, test_labels, batch_size):\n",
    "            test_batch_acc_total += sess.run(\n",
    "                loaded_acc,\n",
    "                feed_dict={loaded_x: train_feature_batch, loaded_y: train_label_batch, loaded_keep_prob: 1.0})\n",
    "            test_batch_count += 1\n",
    "\n",
    "        print('Testing Accuracy: {}\\n'.format(test_batch_acc_total/test_batch_count))\n",
    "\n",
    "        # Print Random Samples\n",
    "        random_test_features, random_test_labels = tuple(zip(*random.sample(list(zip(test_features, test_labels)), n_samples)))\n",
    "        random_test_predictions = sess.run(\n",
    "            tf.nn.top_k(tf.nn.softmax(loaded_logits), top_n_predictions),\n",
    "            feed_dict={loaded_x: random_test_features, loaded_y: random_test_labels, loaded_keep_prob: 1.0})\n",
    "        helper.display_image_predictions(random_test_features, random_test_labels, random_test_predictions)\n",
    "\n",
    "\n",
    "test_model()"
   ]
  },
  {
   "cell_type": "markdown",
   "metadata": {},
   "source": [
    "## Why 50-80% Accuracy?\n",
    "You might be wondering why you can't get an accuracy any higher. First things first, 50% isn't bad for a simple CNN.  Pure guessing would get you 10% accuracy. However, you might notice people are getting scores [well above 80%](http://rodrigob.github.io/are_we_there_yet/build/classification_datasets_results.html#43494641522d3130).  That's because we haven't taught you all there is to know about neural networks. We still need to cover a few more techniques.\n",
    "## Submitting This Project\n",
    "When submitting this project, make sure to run all the cells before saving the notebook.  Save the notebook file as \"dlnd_image_classification.ipynb\" and save it as a HTML file under \"File\" -> \"Download as\".  Include the \"helper.py\" and \"problem_unittests.py\" files in your submission."
   ]
  }
 ],
 "metadata": {
  "kernelspec": {
   "display_name": "Python 3",
   "language": "python",
   "name": "python3"
  },
  "language_info": {
   "codemirror_mode": {
    "name": "ipython",
    "version": 3
   },
   "file_extension": ".py",
   "mimetype": "text/x-python",
   "name": "python",
   "nbconvert_exporter": "python",
   "pygments_lexer": "ipython3",
   "version": "3.5.2"
  },
  "widgets": {
   "state": {},
   "version": "1.1.2"
  }
 },
 "nbformat": 4,
 "nbformat_minor": 1
}
